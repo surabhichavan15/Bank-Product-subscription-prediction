{
 "cells": [
  {
   "cell_type": "code",
   "execution_count": 634,
   "metadata": {},
   "outputs": [],
   "source": [
    "#importing package\n",
    "import pandas as pd\n",
    "import numpy as np\n"
   ]
  },
  {
   "cell_type": "code",
   "execution_count": 635,
   "metadata": {},
   "outputs": [
    {
     "name": "stdout",
     "output_type": "stream",
     "text": [
      "<class 'pandas.core.frame.DataFrame'>\n"
     ]
    }
   ],
   "source": [
    "#importing data\n",
    "data=pd.read_csv(\"C:\\\\TD\\\\Sem 2\\\\Personal projects\\\\new_train.csv\")\n",
    "data_1=data.to_numpy()\n",
    "print(type(data_train_1))\n",
    "\n"
   ]
  },
  {
   "cell_type": "code",
   "execution_count": 636,
   "metadata": {},
   "outputs": [
    {
     "data": {
      "text/html": [
       "<div>\n",
       "<style scoped>\n",
       "    .dataframe tbody tr th:only-of-type {\n",
       "        vertical-align: middle;\n",
       "    }\n",
       "\n",
       "    .dataframe tbody tr th {\n",
       "        vertical-align: top;\n",
       "    }\n",
       "\n",
       "    .dataframe thead th {\n",
       "        text-align: right;\n",
       "    }\n",
       "</style>\n",
       "<table border=\"1\" class=\"dataframe\">\n",
       "  <thead>\n",
       "    <tr style=\"text-align: right;\">\n",
       "      <th></th>\n",
       "      <th>age</th>\n",
       "      <th>job</th>\n",
       "      <th>marital</th>\n",
       "      <th>education</th>\n",
       "      <th>default</th>\n",
       "      <th>housing</th>\n",
       "      <th>loan</th>\n",
       "      <th>contact</th>\n",
       "      <th>month</th>\n",
       "      <th>day_of_week</th>\n",
       "      <th>duration</th>\n",
       "      <th>campaign</th>\n",
       "      <th>poutcome</th>\n",
       "      <th>y</th>\n",
       "    </tr>\n",
       "  </thead>\n",
       "  <tbody>\n",
       "    <tr>\n",
       "      <th>0</th>\n",
       "      <td>49</td>\n",
       "      <td>blue-collar</td>\n",
       "      <td>married</td>\n",
       "      <td>basic.9y</td>\n",
       "      <td>unknown</td>\n",
       "      <td>no</td>\n",
       "      <td>no</td>\n",
       "      <td>cellular</td>\n",
       "      <td>nov</td>\n",
       "      <td>wed</td>\n",
       "      <td>227</td>\n",
       "      <td>4</td>\n",
       "      <td>nonexistent</td>\n",
       "      <td>no</td>\n",
       "    </tr>\n",
       "    <tr>\n",
       "      <th>1</th>\n",
       "      <td>37</td>\n",
       "      <td>entrepreneur</td>\n",
       "      <td>married</td>\n",
       "      <td>university.degree</td>\n",
       "      <td>no</td>\n",
       "      <td>no</td>\n",
       "      <td>no</td>\n",
       "      <td>telephone</td>\n",
       "      <td>nov</td>\n",
       "      <td>wed</td>\n",
       "      <td>202</td>\n",
       "      <td>2</td>\n",
       "      <td>failure</td>\n",
       "      <td>no</td>\n",
       "    </tr>\n",
       "    <tr>\n",
       "      <th>2</th>\n",
       "      <td>78</td>\n",
       "      <td>retired</td>\n",
       "      <td>married</td>\n",
       "      <td>basic.4y</td>\n",
       "      <td>no</td>\n",
       "      <td>no</td>\n",
       "      <td>no</td>\n",
       "      <td>cellular</td>\n",
       "      <td>jul</td>\n",
       "      <td>mon</td>\n",
       "      <td>1148</td>\n",
       "      <td>1</td>\n",
       "      <td>nonexistent</td>\n",
       "      <td>yes</td>\n",
       "    </tr>\n",
       "    <tr>\n",
       "      <th>3</th>\n",
       "      <td>36</td>\n",
       "      <td>admin.</td>\n",
       "      <td>married</td>\n",
       "      <td>university.degree</td>\n",
       "      <td>no</td>\n",
       "      <td>yes</td>\n",
       "      <td>no</td>\n",
       "      <td>telephone</td>\n",
       "      <td>may</td>\n",
       "      <td>mon</td>\n",
       "      <td>120</td>\n",
       "      <td>2</td>\n",
       "      <td>nonexistent</td>\n",
       "      <td>no</td>\n",
       "    </tr>\n",
       "    <tr>\n",
       "      <th>4</th>\n",
       "      <td>59</td>\n",
       "      <td>retired</td>\n",
       "      <td>divorced</td>\n",
       "      <td>university.degree</td>\n",
       "      <td>no</td>\n",
       "      <td>no</td>\n",
       "      <td>no</td>\n",
       "      <td>cellular</td>\n",
       "      <td>jun</td>\n",
       "      <td>tue</td>\n",
       "      <td>368</td>\n",
       "      <td>2</td>\n",
       "      <td>nonexistent</td>\n",
       "      <td>no</td>\n",
       "    </tr>\n",
       "  </tbody>\n",
       "</table>\n",
       "</div>"
      ],
      "text/plain": [
       "   age           job   marital          education  default housing loan  \\\n",
       "0   49   blue-collar   married           basic.9y  unknown      no   no   \n",
       "1   37  entrepreneur   married  university.degree       no      no   no   \n",
       "2   78       retired   married           basic.4y       no      no   no   \n",
       "3   36        admin.   married  university.degree       no     yes   no   \n",
       "4   59       retired  divorced  university.degree       no      no   no   \n",
       "\n",
       "     contact month day_of_week  duration  campaign     poutcome    y  \n",
       "0   cellular   nov         wed       227         4  nonexistent   no  \n",
       "1  telephone   nov         wed       202         2      failure   no  \n",
       "2   cellular   jul         mon      1148         1  nonexistent  yes  \n",
       "3  telephone   may         mon       120         2  nonexistent   no  \n",
       "4   cellular   jun         tue       368         2  nonexistent   no  "
      ]
     },
     "execution_count": 636,
     "metadata": {},
     "output_type": "execute_result"
    }
   ],
   "source": [
    "#Checking data\n",
    "data.head()"
   ]
  },
  {
   "cell_type": "code",
   "execution_count": 637,
   "metadata": {},
   "outputs": [
    {
     "data": {
      "text/plain": [
       "(32950, 14)"
      ]
     },
     "execution_count": 637,
     "metadata": {},
     "output_type": "execute_result"
    }
   ],
   "source": [
    "#Dimensions of data\n",
    "data_1.shape #(32950, 16)"
   ]
  },
  {
   "cell_type": "code",
   "execution_count": 638,
   "metadata": {},
   "outputs": [
    {
     "data": {
      "text/plain": [
       "Index(['age', 'job', 'marital', 'education', 'default', 'housing', 'loan',\n",
       "       'contact', 'month', 'day_of_week', 'duration', 'campaign', 'poutcome',\n",
       "       'y'],\n",
       "      dtype='object')"
      ]
     },
     "execution_count": 638,
     "metadata": {},
     "output_type": "execute_result"
    }
   ],
   "source": [
    "#Columns in data\n",
    "data.columns"
   ]
  },
  {
   "cell_type": "code",
   "execution_count": 674,
   "metadata": {},
   "outputs": [
    {
     "data": {
      "text/html": [
       "<div>\n",
       "<style scoped>\n",
       "    .dataframe tbody tr th:only-of-type {\n",
       "        vertical-align: middle;\n",
       "    }\n",
       "\n",
       "    .dataframe tbody tr th {\n",
       "        vertical-align: top;\n",
       "    }\n",
       "\n",
       "    .dataframe thead th {\n",
       "        text-align: right;\n",
       "    }\n",
       "</style>\n",
       "<table border=\"1\" class=\"dataframe\">\n",
       "  <thead>\n",
       "    <tr style=\"text-align: right;\">\n",
       "      <th></th>\n",
       "      <th>age</th>\n",
       "      <th>duration</th>\n",
       "      <th>campaign</th>\n",
       "    </tr>\n",
       "  </thead>\n",
       "  <tbody>\n",
       "    <tr>\n",
       "      <th>count</th>\n",
       "      <td>32950.000000</td>\n",
       "      <td>32950.000000</td>\n",
       "      <td>32950.000000</td>\n",
       "    </tr>\n",
       "    <tr>\n",
       "      <th>mean</th>\n",
       "      <td>40.014112</td>\n",
       "      <td>258.127466</td>\n",
       "      <td>2.560607</td>\n",
       "    </tr>\n",
       "    <tr>\n",
       "      <th>std</th>\n",
       "      <td>10.403636</td>\n",
       "      <td>258.975917</td>\n",
       "      <td>2.752326</td>\n",
       "    </tr>\n",
       "    <tr>\n",
       "      <th>min</th>\n",
       "      <td>17.000000</td>\n",
       "      <td>0.000000</td>\n",
       "      <td>1.000000</td>\n",
       "    </tr>\n",
       "    <tr>\n",
       "      <th>25%</th>\n",
       "      <td>32.000000</td>\n",
       "      <td>103.000000</td>\n",
       "      <td>1.000000</td>\n",
       "    </tr>\n",
       "    <tr>\n",
       "      <th>50%</th>\n",
       "      <td>38.000000</td>\n",
       "      <td>180.000000</td>\n",
       "      <td>2.000000</td>\n",
       "    </tr>\n",
       "    <tr>\n",
       "      <th>75%</th>\n",
       "      <td>47.000000</td>\n",
       "      <td>319.000000</td>\n",
       "      <td>3.000000</td>\n",
       "    </tr>\n",
       "    <tr>\n",
       "      <th>max</th>\n",
       "      <td>98.000000</td>\n",
       "      <td>4918.000000</td>\n",
       "      <td>56.000000</td>\n",
       "    </tr>\n",
       "  </tbody>\n",
       "</table>\n",
       "</div>"
      ],
      "text/plain": [
       "                age      duration      campaign\n",
       "count  32950.000000  32950.000000  32950.000000\n",
       "mean      40.014112    258.127466      2.560607\n",
       "std       10.403636    258.975917      2.752326\n",
       "min       17.000000      0.000000      1.000000\n",
       "25%       32.000000    103.000000      1.000000\n",
       "50%       38.000000    180.000000      2.000000\n",
       "75%       47.000000    319.000000      3.000000\n",
       "max       98.000000   4918.000000     56.000000"
      ]
     },
     "execution_count": 674,
     "metadata": {},
     "output_type": "execute_result"
    }
   ],
   "source": [
    "data.describe()"
   ]
  },
  {
   "cell_type": "code",
   "execution_count": 639,
   "metadata": {},
   "outputs": [],
   "source": [
    "# drop duplicates\n",
    "data_1 = data.drop_duplicates()"
   ]
  },
  {
   "cell_type": "code",
   "execution_count": 640,
   "metadata": {},
   "outputs": [
    {
     "data": {
      "text/plain": [
       "(32942, 14)"
      ]
     },
     "execution_count": 640,
     "metadata": {},
     "output_type": "execute_result"
    }
   ],
   "source": [
    "#Checking dimensions after removing duplicates\n",
    "data_1.shape"
   ]
  },
  {
   "cell_type": "code",
   "execution_count": 641,
   "metadata": {},
   "outputs": [
    {
     "name": "stderr",
     "output_type": "stream",
     "text": [
      "C:\\Users\\surab\\anaconda3\\lib\\site-packages\\pandas\\core\\indexing.py:1745: SettingWithCopyWarning: \n",
      "A value is trying to be set on a copy of a slice from a DataFrame.\n",
      "Try using .loc[row_indexer,col_indexer] = value instead\n",
      "\n",
      "See the caveats in the documentation: https://pandas.pydata.org/pandas-docs/stable/user_guide/indexing.html#returning-a-view-versus-a-copy\n",
      "  isetter(ilocs[0], value)\n"
     ]
    }
   ],
   "source": [
    "#Lable encoding X variables\n",
    "\n",
    "#column encoding for \"Job\"\n",
    "from sklearn.preprocessing import LabelEncoder\n",
    "le1 = LabelEncoder()\n",
    "data_1.iloc[:,1]= le1.fit_transform(data_1.iloc[:,1])\n",
    "\n",
    "#column encoding for \"Marital\"\n",
    "from sklearn.preprocessing import LabelEncoder\n",
    "le2 = LabelEncoder()\n",
    "data_1.iloc[:,2]= le2.fit_transform(data_1.iloc[:,2])\n",
    "\n",
    "#column encoding for \"Education\"\n",
    "from sklearn.preprocessing import LabelEncoder\n",
    "le3 = LabelEncoder()\n",
    "data_1.iloc[:,3]= le3.fit_transform(data_1.iloc[:,3])\n",
    "\n",
    "#column encoding for \"default\"\n",
    "from sklearn.preprocessing import LabelEncoder\n",
    "le4 = LabelEncoder()\n",
    "data_1.iloc[:,4]= le4.fit_transform(data_1.iloc[:,4])\n",
    "\n",
    "#column encoding for \"housing\"\n",
    "from sklearn.preprocessing import LabelEncoder\n",
    "le5 = LabelEncoder()\n",
    "data_1.iloc[:,5]= le5.fit_transform(data_1.iloc[:,5])\n",
    "\n",
    "#column encoding for \"loan\"\n",
    "from sklearn.preprocessing import LabelEncoder\n",
    "le6 = LabelEncoder()\n",
    "data_1.iloc[:,6]= le6.fit_transform(data_1.iloc[:,6])\n",
    "\n",
    "#column encoding for \"contact\"\n",
    "from sklearn.preprocessing import LabelEncoder\n",
    "le7 = LabelEncoder()\n",
    "data_1.iloc[:,7]= le7.fit_transform(data_1.iloc[:,7])\n",
    "\n",
    "#column encoding for \"month\"\n",
    "from sklearn.preprocessing import LabelEncoder\n",
    "le8 = LabelEncoder()\n",
    "data_1.iloc[:,8]= le8.fit_transform(data_1.iloc[:,8])\n",
    "\n",
    "#column encoding for \"day_of_week\"\n",
    "from sklearn.preprocessing import LabelEncoder\n",
    "le9 = LabelEncoder()\n",
    "data_1.iloc[:,9]= le9.fit_transform(data_1.iloc[:,9])\n",
    "\n",
    "#column encoding for \"day_of_week\"\n",
    "from sklearn.preprocessing import LabelEncoder\n",
    "le10 = LabelEncoder()\n",
    "data_1.iloc[:,10]= le10.fit_transform(data_1.iloc[:,10])\n",
    "\n",
    "\n",
    "#column encoding for \"poutcome\"\n",
    "from sklearn.preprocessing import LabelEncoder\n",
    "le14 = LabelEncoder()\n",
    "data_1.iloc[:,12]= le14.fit_transform(data_1.iloc[:,12])"
   ]
  },
  {
   "cell_type": "code",
   "execution_count": 642,
   "metadata": {},
   "outputs": [
    {
     "name": "stdout",
     "output_type": "stream",
     "text": [
      "       age  job  marital  education  default  housing  loan  contact  month  \\\n",
      "0       49    1        1          2        1        0     0        0      7   \n",
      "1       37    2        1          6        0        0     0        1      7   \n",
      "2       78    5        1          0        0        0     0        0      3   \n",
      "3       36    0        1          6        0        2     0        1      6   \n",
      "4       59    5        0          6        0        0     0        0      4   \n",
      "...    ...  ...      ...        ...      ...      ...   ...      ...    ...   \n",
      "32945   28    7        2          3        0        2     0        0      3   \n",
      "32946   52    9        1          5        0        2     0        0      7   \n",
      "32947   54    0        1          2        0        0     2        0      3   \n",
      "32948   29    0        1          6        0        0     0        1      6   \n",
      "32949   35    0        1          6        0        0     2        1      4   \n",
      "\n",
      "       day_of_week  duration  campaign  poutcome    y  \n",
      "0                4       227         4         1   no  \n",
      "1                4       202         2         0   no  \n",
      "2                1      1121         1         1  yes  \n",
      "3                1       120         2         1   no  \n",
      "4                3       368         2         1   no  \n",
      "...            ...       ...       ...       ...  ...  \n",
      "32945            3       192         1         1   no  \n",
      "32946            0        64         1         0   no  \n",
      "32947            1       131         4         1   no  \n",
      "32948            0       165         1         1   no  \n",
      "32949            3       544         3         1   no  \n",
      "\n",
      "[32942 rows x 14 columns]\n"
     ]
    }
   ],
   "source": [
    "print(data_1)"
   ]
  },
  {
   "cell_type": "code",
   "execution_count": 643,
   "metadata": {},
   "outputs": [
    {
     "name": "stderr",
     "output_type": "stream",
     "text": [
      "C:\\Users\\surab\\anaconda3\\lib\\site-packages\\pandas\\core\\indexing.py:1745: SettingWithCopyWarning: \n",
      "A value is trying to be set on a copy of a slice from a DataFrame.\n",
      "Try using .loc[row_indexer,col_indexer] = value instead\n",
      "\n",
      "See the caveats in the documentation: https://pandas.pydata.org/pandas-docs/stable/user_guide/indexing.html#returning-a-view-versus-a-copy\n",
      "  isetter(ilocs[0], value)\n"
     ]
    }
   ],
   "source": [
    "#Label encoding y variable\n",
    "from sklearn.preprocessing import LabelEncoder\n",
    "le = LabelEncoder()\n",
    "data_1.iloc[:,-1]= le.fit_transform(data_1.iloc[:,-1])"
   ]
  },
  {
   "cell_type": "code",
   "execution_count": 644,
   "metadata": {},
   "outputs": [
    {
     "name": "stdout",
     "output_type": "stream",
     "text": [
      "       age  job  marital  education  default  housing  loan  contact  month  \\\n",
      "0       49    1        1          2        1        0     0        0      7   \n",
      "1       37    2        1          6        0        0     0        1      7   \n",
      "2       78    5        1          0        0        0     0        0      3   \n",
      "3       36    0        1          6        0        2     0        1      6   \n",
      "4       59    5        0          6        0        0     0        0      4   \n",
      "...    ...  ...      ...        ...      ...      ...   ...      ...    ...   \n",
      "32945   28    7        2          3        0        2     0        0      3   \n",
      "32946   52    9        1          5        0        2     0        0      7   \n",
      "32947   54    0        1          2        0        0     2        0      3   \n",
      "32948   29    0        1          6        0        0     0        1      6   \n",
      "32949   35    0        1          6        0        0     2        1      4   \n",
      "\n",
      "       day_of_week  duration  campaign  poutcome  y  \n",
      "0                4       227         4         1  0  \n",
      "1                4       202         2         0  0  \n",
      "2                1      1121         1         1  1  \n",
      "3                1       120         2         1  0  \n",
      "4                3       368         2         1  0  \n",
      "...            ...       ...       ...       ... ..  \n",
      "32945            3       192         1         1  0  \n",
      "32946            0        64         1         0  0  \n",
      "32947            1       131         4         1  0  \n",
      "32948            0       165         1         1  0  \n",
      "32949            3       544         3         1  0  \n",
      "\n",
      "[32942 rows x 14 columns]\n"
     ]
    }
   ],
   "source": [
    "print(data_1)"
   ]
  },
  {
   "cell_type": "code",
   "execution_count": 645,
   "metadata": {},
   "outputs": [],
   "source": [
    "# # Feature scaling for data\n",
    "# from sklearn.preprocessing import StandardScaler\n",
    "# sc=StandardScaler()\n",
    "# data_1.iloc[:,0:13]=sc.fit_transform(data_1.iloc[:,0:13])"
   ]
  },
  {
   "cell_type": "code",
   "execution_count": 646,
   "metadata": {},
   "outputs": [
    {
     "name": "stdout",
     "output_type": "stream",
     "text": [
      "       age  job  marital  education  default  housing  loan  contact  month  \\\n",
      "0       49    1        1          2        1        0     0        0      7   \n",
      "1       37    2        1          6        0        0     0        1      7   \n",
      "2       78    5        1          0        0        0     0        0      3   \n",
      "3       36    0        1          6        0        2     0        1      6   \n",
      "4       59    5        0          6        0        0     0        0      4   \n",
      "...    ...  ...      ...        ...      ...      ...   ...      ...    ...   \n",
      "32945   28    7        2          3        0        2     0        0      3   \n",
      "32946   52    9        1          5        0        2     0        0      7   \n",
      "32947   54    0        1          2        0        0     2        0      3   \n",
      "32948   29    0        1          6        0        0     0        1      6   \n",
      "32949   35    0        1          6        0        0     2        1      4   \n",
      "\n",
      "       day_of_week  duration  campaign  poutcome  y  \n",
      "0                4       227         4         1  0  \n",
      "1                4       202         2         0  0  \n",
      "2                1      1121         1         1  1  \n",
      "3                1       120         2         1  0  \n",
      "4                3       368         2         1  0  \n",
      "...            ...       ...       ...       ... ..  \n",
      "32945            3       192         1         1  0  \n",
      "32946            0        64         1         0  0  \n",
      "32947            1       131         4         1  0  \n",
      "32948            0       165         1         1  0  \n",
      "32949            3       544         3         1  0  \n",
      "\n",
      "[32942 rows x 14 columns]\n"
     ]
    }
   ],
   "source": [
    "print(data_1)"
   ]
  },
  {
   "cell_type": "code",
   "execution_count": 647,
   "metadata": {},
   "outputs": [
    {
     "data": {
      "image/png": "[encoded data removed]",
      "text/plain": [
       "<Figure size 1080x864 with 2 Axes>"
      ]
     },
     "metadata": {
      "needs_background": "light"
     },
     "output_type": "display_data"
    }
   ],
   "source": [
    "#Using Pearson Correlation\n",
    "data_2=pd.DataFrame(data_1)\n",
    "import matplotlib.pyplot as plt\n",
    "import seaborn as sns\n",
    "plt.figure(figsize=(15,12))\n",
    "cor = data_2.corr()\n",
    "sns.heatmap(cor, annot=True, cmap=plt.cm.Reds)\n",
    "plt.show()"
   ]
  },
  {
   "cell_type": "code",
   "execution_count": 648,
   "metadata": {},
   "outputs": [
    {
     "name": "stdout",
     "output_type": "stream",
     "text": [
      "marital      0.050065\n",
      "education    0.059307\n",
      "default      0.099170\n",
      "contact      0.143256\n",
      "duration     0.417548\n",
      "campaign     0.065490\n",
      "poutcome     0.127804\n",
      "y            1.000000\n",
      "Name: y, dtype: float64\n"
     ]
    }
   ],
   "source": [
    "#Correlation with output variable\n",
    "\n",
    "cor_target = abs(cor['y'])\n",
    "\n",
    "pos=(cor_target[cor_target>=0.05])\n",
    "print(pos)\n",
    "\n",
    "\n",
    "\n"
   ]
  },
  {
   "cell_type": "code",
   "execution_count": 649,
   "metadata": {},
   "outputs": [],
   "source": [
    "data_2=pd.DataFrame(data_1)"
   ]
  },
  {
   "cell_type": "code",
   "execution_count": 650,
   "metadata": {},
   "outputs": [
    {
     "data": {
      "text/html": [
       "<div>\n",
       "<style scoped>\n",
       "    .dataframe tbody tr th:only-of-type {\n",
       "        vertical-align: middle;\n",
       "    }\n",
       "\n",
       "    .dataframe tbody tr th {\n",
       "        vertical-align: top;\n",
       "    }\n",
       "\n",
       "    .dataframe thead th {\n",
       "        text-align: right;\n",
       "    }\n",
       "</style>\n",
       "<table border=\"1\" class=\"dataframe\">\n",
       "  <thead>\n",
       "    <tr style=\"text-align: right;\">\n",
       "      <th></th>\n",
       "      <th>marital</th>\n",
       "      <th>education</th>\n",
       "      <th>default</th>\n",
       "      <th>contact</th>\n",
       "      <th>duration</th>\n",
       "      <th>campaign</th>\n",
       "      <th>poutcome</th>\n",
       "      <th>y</th>\n",
       "    </tr>\n",
       "  </thead>\n",
       "  <tbody>\n",
       "    <tr>\n",
       "      <th>0</th>\n",
       "      <td>1</td>\n",
       "      <td>2</td>\n",
       "      <td>1</td>\n",
       "      <td>0</td>\n",
       "      <td>227</td>\n",
       "      <td>4</td>\n",
       "      <td>1</td>\n",
       "      <td>0</td>\n",
       "    </tr>\n",
       "    <tr>\n",
       "      <th>1</th>\n",
       "      <td>1</td>\n",
       "      <td>6</td>\n",
       "      <td>0</td>\n",
       "      <td>1</td>\n",
       "      <td>202</td>\n",
       "      <td>2</td>\n",
       "      <td>0</td>\n",
       "      <td>0</td>\n",
       "    </tr>\n",
       "    <tr>\n",
       "      <th>2</th>\n",
       "      <td>1</td>\n",
       "      <td>0</td>\n",
       "      <td>0</td>\n",
       "      <td>0</td>\n",
       "      <td>1121</td>\n",
       "      <td>1</td>\n",
       "      <td>1</td>\n",
       "      <td>1</td>\n",
       "    </tr>\n",
       "    <tr>\n",
       "      <th>3</th>\n",
       "      <td>1</td>\n",
       "      <td>6</td>\n",
       "      <td>0</td>\n",
       "      <td>1</td>\n",
       "      <td>120</td>\n",
       "      <td>2</td>\n",
       "      <td>1</td>\n",
       "      <td>0</td>\n",
       "    </tr>\n",
       "    <tr>\n",
       "      <th>4</th>\n",
       "      <td>0</td>\n",
       "      <td>6</td>\n",
       "      <td>0</td>\n",
       "      <td>0</td>\n",
       "      <td>368</td>\n",
       "      <td>2</td>\n",
       "      <td>1</td>\n",
       "      <td>0</td>\n",
       "    </tr>\n",
       "    <tr>\n",
       "      <th>...</th>\n",
       "      <td>...</td>\n",
       "      <td>...</td>\n",
       "      <td>...</td>\n",
       "      <td>...</td>\n",
       "      <td>...</td>\n",
       "      <td>...</td>\n",
       "      <td>...</td>\n",
       "      <td>...</td>\n",
       "    </tr>\n",
       "    <tr>\n",
       "      <th>32945</th>\n",
       "      <td>2</td>\n",
       "      <td>3</td>\n",
       "      <td>0</td>\n",
       "      <td>0</td>\n",
       "      <td>192</td>\n",
       "      <td>1</td>\n",
       "      <td>1</td>\n",
       "      <td>0</td>\n",
       "    </tr>\n",
       "    <tr>\n",
       "      <th>32946</th>\n",
       "      <td>1</td>\n",
       "      <td>5</td>\n",
       "      <td>0</td>\n",
       "      <td>0</td>\n",
       "      <td>64</td>\n",
       "      <td>1</td>\n",
       "      <td>0</td>\n",
       "      <td>0</td>\n",
       "    </tr>\n",
       "    <tr>\n",
       "      <th>32947</th>\n",
       "      <td>1</td>\n",
       "      <td>2</td>\n",
       "      <td>0</td>\n",
       "      <td>0</td>\n",
       "      <td>131</td>\n",
       "      <td>4</td>\n",
       "      <td>1</td>\n",
       "      <td>0</td>\n",
       "    </tr>\n",
       "    <tr>\n",
       "      <th>32948</th>\n",
       "      <td>1</td>\n",
       "      <td>6</td>\n",
       "      <td>0</td>\n",
       "      <td>1</td>\n",
       "      <td>165</td>\n",
       "      <td>1</td>\n",
       "      <td>1</td>\n",
       "      <td>0</td>\n",
       "    </tr>\n",
       "    <tr>\n",
       "      <th>32949</th>\n",
       "      <td>1</td>\n",
       "      <td>6</td>\n",
       "      <td>0</td>\n",
       "      <td>1</td>\n",
       "      <td>544</td>\n",
       "      <td>3</td>\n",
       "      <td>1</td>\n",
       "      <td>0</td>\n",
       "    </tr>\n",
       "  </tbody>\n",
       "</table>\n",
       "<p>32942 rows × 8 columns</p>\n",
       "</div>"
      ],
      "text/plain": [
       "       marital  education  default  contact  duration  campaign  poutcome  y\n",
       "0            1          2        1        0       227         4         1  0\n",
       "1            1          6        0        1       202         2         0  0\n",
       "2            1          0        0        0      1121         1         1  1\n",
       "3            1          6        0        1       120         2         1  0\n",
       "4            0          6        0        0       368         2         1  0\n",
       "...        ...        ...      ...      ...       ...       ...       ... ..\n",
       "32945        2          3        0        0       192         1         1  0\n",
       "32946        1          5        0        0        64         1         0  0\n",
       "32947        1          2        0        0       131         4         1  0\n",
       "32948        1          6        0        1       165         1         1  0\n",
       "32949        1          6        0        1       544         3         1  0\n",
       "\n",
       "[32942 rows x 8 columns]"
      ]
     },
     "execution_count": 650,
     "metadata": {},
     "output_type": "execute_result"
    }
   ],
   "source": [
    "data_2.drop(['age', 'job','housing','loan','month','day_of_week'], axis = 1)"
   ]
  },
  {
   "cell_type": "markdown",
   "metadata": {},
   "source": [
    "#Dropping NA values\n",
    "data_train2 = data_train1.dropna( axis = 'columns' )"
   ]
  },
  {
   "cell_type": "code",
   "execution_count": 651,
   "metadata": {},
   "outputs": [],
   "source": [
    "X=data_train_2.iloc[:,0:-1]\n",
    "\n",
    "y=data_train_2.iloc[:,-1]\n",
    "\n",
    "from sklearn.model_selection import train_test_split\n",
    "X_train,X_test,y_train,y_test=train_test_split(X,y,test_size=0.2,random_state=0)\n"
   ]
  },
  {
   "cell_type": "markdown",
   "metadata": {},
   "source": [
    "-------------------------------------------------------------------------------"
   ]
  },
  {
   "cell_type": "code",
   "execution_count": 652,
   "metadata": {},
   "outputs": [
    {
     "name": "stdout",
     "output_type": "stream",
     "text": [
      "            age       job   marital  education   default   housing      loan  \\\n",
      "14023 -0.193486  0.911779 -0.284932  -0.350321 -0.516579 -1.087559 -0.453905   \n",
      "16292 -0.577995  0.911779 -0.284932  -0.350321 -0.516579 -1.087559 -0.453905   \n",
      "16689 -1.443140 -1.035979  1.358315   1.053549 -0.516579  0.942379  2.304357   \n",
      "19235 -0.674122  1.468282  1.358315   0.585592 -0.516579 -1.087559 -0.453905   \n",
      "4348   1.536805 -0.757728 -0.284932  -0.818278  1.933695 -1.087559 -0.453905   \n",
      "...         ...       ...       ...        ...       ...       ...       ...   \n",
      "20760 -0.866377 -1.035979  1.358315  -0.350321 -0.516579  0.942379 -0.453905   \n",
      "32110  0.767787  0.633528 -0.284932  -0.350321  1.933695  0.942379 -0.453905   \n",
      "30409 -0.385740 -1.035979 -0.284932   0.585592 -0.516579 -1.087559 -0.453905   \n",
      "21246 -0.674122 -0.757728 -0.284932  -0.818278 -0.516579  0.942379 -0.453905   \n",
      "2733   1.536805  0.077025 -0.284932   1.053549 -0.516579  0.942379 -0.453905   \n",
      "\n",
      "        contact     month  day_of_week  duration  campaign  poutcome  \n",
      "14023 -0.758911 -1.825048    -1.428634 -0.859605 -0.203741  0.193695  \n",
      "16292  1.317677  0.761606    -1.428634 -0.549466 -0.203741  0.193695  \n",
      "16689 -0.758911  0.761606     0.713731  1.043715 -0.203741  0.193695  \n",
      "19235 -0.758911  1.192715     0.713731 -0.549466 -0.203741  0.193695  \n",
      "4348   1.317677  0.761606     1.427853 -0.371030  0.159561  0.193695  \n",
      "...         ...       ...          ...       ...       ...       ...  \n",
      "20760 -0.758911  1.192715     1.427853 -0.800126 -0.567042  0.193695  \n",
      "32110  1.317677  0.761606    -1.428634 -0.354036 -0.203741  0.193695  \n",
      "30409 -0.758911 -1.393939    -1.428634 -0.761890 -0.567042  0.193695  \n",
      "21246 -0.758911 -1.825048    -1.428634 -0.506981 -0.567042 -2.551872  \n",
      "2733  -0.758911  1.192715    -0.714512 -0.553714 -0.567042  0.193695  \n",
      "\n",
      "[26353 rows x 13 columns]\n"
     ]
    }
   ],
   "source": [
    "print(X_train)"
   ]
  },
  {
   "cell_type": "code",
   "execution_count": 653,
   "metadata": {},
   "outputs": [
    {
     "name": "stdout",
     "output_type": "stream",
     "text": [
      "            age       job   marital  education   default   housing      loan  \\\n",
      "6824  -0.097359 -0.757728 -0.284932  -1.286235 -0.516579 -1.087559 -0.453905   \n",
      "13106  0.191023  0.911779 -0.284932   0.585592 -0.516579  0.942379 -0.453905   \n",
      "24550 -0.193486  1.468282 -0.284932   0.585592  1.933695 -1.087559 -0.453905   \n",
      "16677 -0.577995 -1.035979 -0.284932   1.053549 -0.516579 -1.087559 -0.453905   \n",
      "29680 -0.770249  1.468282  1.358315   1.053549 -0.516579 -1.087559 -0.453905   \n",
      "...         ...       ...       ...        ...       ...       ...       ...   \n",
      "32425 -0.577995  0.077025 -0.284932   1.053549 -0.516579  0.942379  2.304357   \n",
      "12402 -0.385740 -1.035979 -0.284932   0.585592 -0.516579  0.942379  2.304357   \n",
      "15499 -0.770249  1.468282  1.358315   1.053549 -0.516579 -1.087559 -0.453905   \n",
      "11338 -0.385740  0.911779  1.358315  -1.286235  1.933695 -1.087559 -0.453905   \n",
      "557   -0.674122  1.468282 -0.284932   1.053549 -0.516579  0.942379 -0.453905   \n",
      "\n",
      "        contact     month  day_of_week  duration  campaign  poutcome  \n",
      "6824   1.317677  0.761606    -0.000390 -0.621690  0.159561  0.193695  \n",
      "13106  1.317677  0.761606     1.427853  0.189770 -0.567042  0.193695  \n",
      "24550 -0.758911 -1.825048    -1.428634  4.722900 -0.567042 -2.551872  \n",
      "16677 -0.758911  1.192715     1.427853 -0.719405 -0.567042  0.193695  \n",
      "29680 -0.758911 -1.393939     0.713731  0.041073  3.429272  0.193695  \n",
      "...         ...       ...          ...       ...       ...       ...  \n",
      "32425 -0.758911  1.192715     0.713731  0.665600  0.159561 -2.551872  \n",
      "12402 -0.758911 -1.393939    -1.428634 -0.430508  0.522862  0.193695  \n",
      "15499 -0.758911  0.761606    -1.428634 -0.162854 -0.203741 -2.551872  \n",
      "11338  1.317677 -0.100612    -0.714512  0.002837  0.159561  0.193695  \n",
      "557   -0.758911 -0.531721     1.427853 -0.392272  1.249464  0.193695  \n",
      "\n",
      "[6589 rows x 13 columns]\n"
     ]
    }
   ],
   "source": [
    "print(X_test)"
   ]
  },
  {
   "cell_type": "code",
   "execution_count": 654,
   "metadata": {},
   "outputs": [
    {
     "name": "stdout",
     "output_type": "stream",
     "text": [
      "14023    0\n",
      "16292    0\n",
      "16689    0\n",
      "19235    0\n",
      "4348     0\n",
      "        ..\n",
      "20760    0\n",
      "32110    0\n",
      "30409    0\n",
      "21246    0\n",
      "2733     0\n",
      "Name: y, Length: 26353, dtype: int32\n"
     ]
    }
   ],
   "source": [
    "print(y_train)"
   ]
  },
  {
   "cell_type": "code",
   "execution_count": 655,
   "metadata": {},
   "outputs": [
    {
     "name": "stdout",
     "output_type": "stream",
     "text": [
      "6824     0\n",
      "13106    0\n",
      "24550    1\n",
      "16677    0\n",
      "29680    0\n",
      "        ..\n",
      "32425    0\n",
      "12402    0\n",
      "15499    0\n",
      "11338    0\n",
      "557      0\n",
      "Name: y, Length: 6589, dtype: int32\n"
     ]
    }
   ],
   "source": [
    "print(y_test)"
   ]
  },
  {
   "cell_type": "code",
   "execution_count": 656,
   "metadata": {},
   "outputs": [],
   "source": [
    "# Logistic Regression #0.8961\n",
    "# from sklearn.linear_model import LogisticRegression\n",
    "# regressor=LogisticRegression(random_state=0)\n",
    "# regressor.fit(X_train,y_train)"
   ]
  },
  {
   "cell_type": "code",
   "execution_count": 657,
   "metadata": {},
   "outputs": [],
   "source": [
    "# SVC linear #0.8828\n",
    "# from sklearn.svm import SVC\n",
    "# classifier=SVC(kernel='linear',random_state=0)\n",
    "# classifier.fit(X_train,y_train)"
   ]
  },
  {
   "cell_type": "code",
   "execution_count": 658,
   "metadata": {},
   "outputs": [],
   "source": [
    "# Decision tree #0.8753\n",
    "# from sklearn.tree import DecisionTreeClassifier\n",
    "# classifier=DecisionTreeClassifier(criterion='entropy',random_state=0)\n",
    "# classifier.fit(X_train,y_train)"
   ]
  },
  {
   "cell_type": "code",
   "execution_count": 659,
   "metadata": {},
   "outputs": [],
   "source": [
    "# Random Forest #0.9048\n",
    "# from sklearn.ensemble import RandomForestClassifier\n",
    "# classifier=RandomForestClassifier(n_estimators=10,criterion='entropy',random_state=0)#n_estimators=number of trees in the forest\n",
    "# classifier.fit(X_train,y_train)"
   ]
  },
  {
   "cell_type": "code",
   "execution_count": 660,
   "metadata": {},
   "outputs": [],
   "source": [
    "# #Naive Bayes #0.8829\n",
    "# from sklearn.naive_bayes import GaussianNB\n",
    "# classifier=GaussianNB()\n",
    "# classifier.fit(X_train,y_train)"
   ]
  },
  {
   "cell_type": "code",
   "execution_count": 661,
   "metadata": {},
   "outputs": [],
   "source": [
    "# #Kernel SVM #0.9066\n",
    "# from sklearn.svm import SVC\n",
    "# classifier=SVC(kernel='rbf',random_state=0)\n",
    "# classifier.fit(X_train,y_train)"
   ]
  },
  {
   "cell_type": "code",
   "execution_count": 665,
   "metadata": {},
   "outputs": [
    {
     "name": "stderr",
     "output_type": "stream",
     "text": [
      "C:\\Users\\surab\\anaconda3\\lib\\site-packages\\xgboost\\sklearn.py:1224: UserWarning: The use of label encoder in XGBClassifier is deprecated and will be removed in a future release. To remove this warning, do the following: 1) Pass option use_label_encoder=False when constructing XGBClassifier object; and 2) Encode your labels (y) as integers starting with 0, i.e. 0, 1, 2, ..., [num_class - 1].\n",
      "  warnings.warn(label_encoder_deprecation_msg, UserWarning)\n"
     ]
    },
    {
     "name": "stdout",
     "output_type": "stream",
     "text": [
      "[10:39:54] WARNING: C:/Users/Administrator/workspace/xgboost-win64_release_1.5.1/src/learner.cc:1115: Starting in XGBoost 1.3.0, the default evaluation metric used with the objective 'binary:logistic' was changed from 'error' to 'logloss'. Explicitly set eval_metric if you'd like to restore the old behavior.\n"
     ]
    },
    {
     "data": {
      "text/plain": [
       "XGBClassifier(base_score=0.5, booster='gbtree', colsample_bylevel=1,\n",
       "              colsample_bynode=1, colsample_bytree=1, enable_categorical=False,\n",
       "              gamma=0, gpu_id=-1, importance_type=None,\n",
       "              interaction_constraints='', learning_rate=0.300000012,\n",
       "              max_delta_step=0, max_depth=6, min_child_weight=1, missing=nan,\n",
       "              monotone_constraints='()', n_estimators=100, n_jobs=8,\n",
       "              num_parallel_tree=1, predictor='auto', random_state=0,\n",
       "              reg_alpha=0, reg_lambda=1, scale_pos_weight=1, subsample=1,\n",
       "              tree_method='exact', validate_parameters=1, verbosity=None)"
      ]
     },
     "execution_count": 665,
     "metadata": {},
     "output_type": "execute_result"
    }
   ],
   "source": [
    "#XGBoost #0.9078\n",
    "import xgboost \n",
    "from xgboost import XGBClassifier\n",
    "classifier = XGBClassifier()\n",
    "classifier.fit(X_train, y_train)"
   ]
  },
  {
   "cell_type": "code",
   "execution_count": 666,
   "metadata": {},
   "outputs": [],
   "source": [
    "ypred=classifier.predict(X_test)"
   ]
  },
  {
   "cell_type": "code",
   "execution_count": 667,
   "metadata": {},
   "outputs": [],
   "source": [
    "#y_test=y_test.to_numpy()"
   ]
  },
  {
   "cell_type": "code",
   "execution_count": 668,
   "metadata": {},
   "outputs": [],
   "source": [
    "#print(np.concatenate((ypred.reshape(len(ypred),1),y_test.reshape(len(y_test),1)),1))"
   ]
  },
  {
   "cell_type": "code",
   "execution_count": 669,
   "metadata": {},
   "outputs": [
    {
     "data": {
      "text/plain": [
       "pandas.core.series.Series"
      ]
     },
     "execution_count": 669,
     "metadata": {},
     "output_type": "execute_result"
    }
   ],
   "source": [
    "type(y_test)"
   ]
  },
  {
   "cell_type": "code",
   "execution_count": 670,
   "metadata": {},
   "outputs": [
    {
     "name": "stdout",
     "output_type": "stream",
     "text": [
      "[[5619  198]\n",
      " [ 409  363]]\n",
      "0.9078767643041433\n"
     ]
    }
   ],
   "source": [
    "#accuracy\n",
    "#Confusion matrix\n",
    "from sklearn.metrics import confusion_matrix, accuracy_score\n",
    "cm=confusion_matrix(y_test, ypred)\n",
    "print(cm)\n",
    "am=accuracy_score(y_test, ypred)\n",
    "print(am)"
   ]
  },
  {
   "cell_type": "code",
   "execution_count": 673,
   "metadata": {},
   "outputs": [
    {
     "name": "stderr",
     "output_type": "stream",
     "text": [
      "C:\\Users\\surab\\anaconda3\\lib\\site-packages\\xgboost\\sklearn.py:1224: UserWarning: The use of label encoder in XGBClassifier is deprecated and will be removed in a future release. To remove this warning, do the following: 1) Pass option use_label_encoder=False when constructing XGBClassifier object; and 2) Encode your labels (y) as integers starting with 0, i.e. 0, 1, 2, ..., [num_class - 1].\n",
      "  warnings.warn(label_encoder_deprecation_msg, UserWarning)\n"
     ]
    },
    {
     "name": "stdout",
     "output_type": "stream",
     "text": [
      "[10:43:01] WARNING: C:/Users/Administrator/workspace/xgboost-win64_release_1.5.1/src/learner.cc:1115: Starting in XGBoost 1.3.0, the default evaluation metric used with the objective 'binary:logistic' was changed from 'error' to 'logloss'. Explicitly set eval_metric if you'd like to restore the old behavior.\n",
      "[10:43:03] WARNING: C:/Users/Administrator/workspace/xgboost-win64_release_1.5.1/src/learner.cc:1115: Starting in XGBoost 1.3.0, the default evaluation metric used with the objective 'binary:logistic' was changed from 'error' to 'logloss'. Explicitly set eval_metric if you'd like to restore the old behavior.\n",
      "[10:43:04] WARNING: C:/Users/Administrator/workspace/xgboost-win64_release_1.5.1/src/learner.cc:1115: Starting in XGBoost 1.3.0, the default evaluation metric used with the objective 'binary:logistic' was changed from 'error' to 'logloss'. Explicitly set eval_metric if you'd like to restore the old behavior.\n",
      "[10:43:06] WARNING: C:/Users/Administrator/workspace/xgboost-win64_release_1.5.1/src/learner.cc:1115: Starting in XGBoost 1.3.0, the default evaluation metric used with the objective 'binary:logistic' was changed from 'error' to 'logloss'. Explicitly set eval_metric if you'd like to restore the old behavior.\n",
      "[10:43:07] WARNING: C:/Users/Administrator/workspace/xgboost-win64_release_1.5.1/src/learner.cc:1115: Starting in XGBoost 1.3.0, the default evaluation metric used with the objective 'binary:logistic' was changed from 'error' to 'logloss'. Explicitly set eval_metric if you'd like to restore the old behavior.\n",
      "[10:43:09] WARNING: C:/Users/Administrator/workspace/xgboost-win64_release_1.5.1/src/learner.cc:1115: Starting in XGBoost 1.3.0, the default evaluation metric used with the objective 'binary:logistic' was changed from 'error' to 'logloss'. Explicitly set eval_metric if you'd like to restore the old behavior.\n",
      "[10:43:10] WARNING: C:/Users/Administrator/workspace/xgboost-win64_release_1.5.1/src/learner.cc:1115: Starting in XGBoost 1.3.0, the default evaluation metric used with the objective 'binary:logistic' was changed from 'error' to 'logloss'. Explicitly set eval_metric if you'd like to restore the old behavior.\n",
      "[10:43:12] WARNING: C:/Users/Administrator/workspace/xgboost-win64_release_1.5.1/src/learner.cc:1115: Starting in XGBoost 1.3.0, the default evaluation metric used with the objective 'binary:logistic' was changed from 'error' to 'logloss'. Explicitly set eval_metric if you'd like to restore the old behavior.\n",
      "[10:43:13] WARNING: C:/Users/Administrator/workspace/xgboost-win64_release_1.5.1/src/learner.cc:1115: Starting in XGBoost 1.3.0, the default evaluation metric used with the objective 'binary:logistic' was changed from 'error' to 'logloss'. Explicitly set eval_metric if you'd like to restore the old behavior.\n",
      "[10:43:14] WARNING: C:/Users/Administrator/workspace/xgboost-win64_release_1.5.1/src/learner.cc:1115: Starting in XGBoost 1.3.0, the default evaluation metric used with the objective 'binary:logistic' was changed from 'error' to 'logloss'. Explicitly set eval_metric if you'd like to restore the old behavior.\n",
      "[0.90705615 0.90553869 0.90743551 0.90246679 0.90777989 0.89184061\n",
      " 0.90891841 0.91119545 0.90474383 0.90777989]\n",
      " Mean Accuracy: 90.55 %\n",
      "Standard Deviation: 0.51 %\n"
     ]
    }
   ],
   "source": [
    "from sklearn.model_selection import cross_val_score\n",
    "accuracies = cross_val_score(estimator = classifier, X = X_train, y = y_train, cv = 10)\n",
    "print(accuracies)\n",
    "print(\" Mean Accuracy: {:.2f} %\".format(accuracies.mean()*100))\n",
    "print(\"Standard Deviation: {:.2f} %\".format(accuracies.std()*100))"
   ]
  },
  {
   "cell_type": "code",
   "execution_count": null,
   "metadata": {},
   "outputs": [],
   "source": []
  },
  {
   "cell_type": "code",
   "execution_count": null,
   "metadata": {},
   "outputs": [],
   "source": []
  }
 ],
 "metadata": {
  "kernelspec": {
   "display_name": "Python 3",
   "language": "python",
   "name": "python3"
  },
  "language_info": {
   "codemirror_mode": {
    "name": "ipython",
    "version": 3
   },
   "file_extension": ".py",
   "mimetype": "text/x-python",
   "name": "python",
   "nbconvert_exporter": "python",
   "pygments_lexer": "ipython3",
   "version": "3.8.5"
  }
 },
 "nbformat": 4,
 "nbformat_minor": 4
}
